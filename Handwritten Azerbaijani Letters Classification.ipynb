{
 "cells": [
  {
   "cell_type": "markdown",
   "metadata": {
    "id": "wPy_IjYq_IAm"
   },
   "source": [
    "# Importing Libraries"
   ]
  },
  {
   "cell_type": "code",
   "execution_count": 1,
   "metadata": {
    "id": "dJutTA8uw6up"
   },
   "outputs": [],
   "source": [
    "#Importing Necessary Libraries\n",
    "import pandas as pd\n",
    "import numpy as np\n",
    "import random\n",
    "import matplotlib.pyplot as plt\n",
    "from sklearn.model_selection import train_test_split\n",
    "from sklearn import preprocessing\n",
    "from tensorflow.keras.models import Sequential\n",
    "from tensorflow.keras.layers import Dense, Conv2D, Flatten, Dropout, MaxPooling2D\n",
    "from tensorflow.keras.optimizers import Adam\n",
    "from tensorflow.keras.callbacks import ModelCheckpoint\n",
    "from tensorflow.keras.models import load_model"
   ]
  },
  {
   "cell_type": "markdown",
   "metadata": {
    "id": "wPrRFfnI_L1b"
   },
   "source": [
    "# Loading Datasets"
   ]
  },
  {
   "cell_type": "code",
   "execution_count": 2,
   "metadata": {
    "id": "Q_IN5wnqxOt9"
   },
   "outputs": [],
   "source": [
    "#Reading Train Data\n",
    "train = pd.read_csv(\"HandChars32_150_Train.txt\", sep = \"#\")"
   ]
  },
  {
   "cell_type": "code",
   "execution_count": 3,
   "metadata": {
    "colab": {
     "base_uri": "https://localhost:8080/",
     "height": 424
    },
    "id": "UOvFkuxGxXbA",
    "outputId": "625d8b49-5f43-49fe-bc6b-570d6e5bbec3"
   },
   "outputs": [
    {
     "data": {
      "text/html": [
       "\n",
       "  <div id=\"df-56356f3d-d04a-4bdf-ac00-f96bf338a285\">\n",
       "    <div class=\"colab-df-container\">\n",
       "      <div>\n",
       "<style scoped>\n",
       "    .dataframe tbody tr th:only-of-type {\n",
       "        vertical-align: middle;\n",
       "    }\n",
       "\n",
       "    .dataframe tbody tr th {\n",
       "        vertical-align: top;\n",
       "    }\n",
       "\n",
       "    .dataframe thead th {\n",
       "        text-align: right;\n",
       "    }\n",
       "</style>\n",
       "<table border=\"1\" class=\"dataframe\">\n",
       "  <thead>\n",
       "    <tr style=\"text-align: right;\">\n",
       "      <th></th>\n",
       "      <th>PatN</th>\n",
       "      <th>PatType</th>\n",
       "      <th>PatProb</th>\n",
       "      <th>SizeH</th>\n",
       "      <th>SizeW</th>\n",
       "      <th>Data</th>\n",
       "    </tr>\n",
       "  </thead>\n",
       "  <tbody>\n",
       "    <tr>\n",
       "      <th>0</th>\n",
       "      <td>0</td>\n",
       "      <td>0</td>\n",
       "      <td>10</td>\n",
       "      <td>32</td>\n",
       "      <td>32</td>\n",
       "      <td>0000000000000001100000000000000000000000000000...</td>\n",
       "    </tr>\n",
       "    <tr>\n",
       "      <th>1</th>\n",
       "      <td>0</td>\n",
       "      <td>0</td>\n",
       "      <td>10</td>\n",
       "      <td>32</td>\n",
       "      <td>32</td>\n",
       "      <td>0000000000000000001000000000000000000000000000...</td>\n",
       "    </tr>\n",
       "    <tr>\n",
       "      <th>2</th>\n",
       "      <td>0</td>\n",
       "      <td>0</td>\n",
       "      <td>10</td>\n",
       "      <td>32</td>\n",
       "      <td>32</td>\n",
       "      <td>0000000000000000000010000000000000000000000000...</td>\n",
       "    </tr>\n",
       "    <tr>\n",
       "      <th>3</th>\n",
       "      <td>0</td>\n",
       "      <td>0</td>\n",
       "      <td>10</td>\n",
       "      <td>32</td>\n",
       "      <td>32</td>\n",
       "      <td>0000000000000000000010000000000000000000000000...</td>\n",
       "    </tr>\n",
       "    <tr>\n",
       "      <th>4</th>\n",
       "      <td>0</td>\n",
       "      <td>0</td>\n",
       "      <td>9</td>\n",
       "      <td>32</td>\n",
       "      <td>32</td>\n",
       "      <td>0000000000000000000001100000000000000000000000...</td>\n",
       "    </tr>\n",
       "    <tr>\n",
       "      <th>...</th>\n",
       "      <td>...</td>\n",
       "      <td>...</td>\n",
       "      <td>...</td>\n",
       "      <td>...</td>\n",
       "      <td>...</td>\n",
       "      <td>...</td>\n",
       "    </tr>\n",
       "    <tr>\n",
       "      <th>4195</th>\n",
       "      <td>27</td>\n",
       "      <td>0</td>\n",
       "      <td>10</td>\n",
       "      <td>32</td>\n",
       "      <td>32</td>\n",
       "      <td>0001110000000000000000000000000001111111111111...</td>\n",
       "    </tr>\n",
       "    <tr>\n",
       "      <th>4196</th>\n",
       "      <td>27</td>\n",
       "      <td>0</td>\n",
       "      <td>10</td>\n",
       "      <td>32</td>\n",
       "      <td>32</td>\n",
       "      <td>0000000000000000000011110111110000001100001111...</td>\n",
       "    </tr>\n",
       "    <tr>\n",
       "      <th>4197</th>\n",
       "      <td>27</td>\n",
       "      <td>0</td>\n",
       "      <td>10</td>\n",
       "      <td>32</td>\n",
       "      <td>32</td>\n",
       "      <td>0000000110000000000000000000000000010011000000...</td>\n",
       "    </tr>\n",
       "    <tr>\n",
       "      <th>4198</th>\n",
       "      <td>27</td>\n",
       "      <td>0</td>\n",
       "      <td>10</td>\n",
       "      <td>32</td>\n",
       "      <td>32</td>\n",
       "      <td>0000000000000000000000000000000000000011000000...</td>\n",
       "    </tr>\n",
       "    <tr>\n",
       "      <th>4199</th>\n",
       "      <td>27</td>\n",
       "      <td>0</td>\n",
       "      <td>10</td>\n",
       "      <td>32</td>\n",
       "      <td>32</td>\n",
       "      <td>0000000100000000000000000000000000000001111111...</td>\n",
       "    </tr>\n",
       "  </tbody>\n",
       "</table>\n",
       "<p>4200 rows × 6 columns</p>\n",
       "</div>\n",
       "      <button class=\"colab-df-convert\" onclick=\"convertToInteractive('df-56356f3d-d04a-4bdf-ac00-f96bf338a285')\"\n",
       "              title=\"Convert this dataframe to an interactive table.\"\n",
       "              style=\"display:none;\">\n",
       "        \n",
       "  <svg xmlns=\"http://www.w3.org/2000/svg\" height=\"24px\"viewBox=\"0 0 24 24\"\n",
       "       width=\"24px\">\n",
       "    <path d=\"M0 0h24v24H0V0z\" fill=\"none\"/>\n",
       "    <path d=\"M18.56 5.44l.94 2.06.94-2.06 2.06-.94-2.06-.94-.94-2.06-.94 2.06-2.06.94zm-11 1L8.5 8.5l.94-2.06 2.06-.94-2.06-.94L8.5 2.5l-.94 2.06-2.06.94zm10 10l.94 2.06.94-2.06 2.06-.94-2.06-.94-.94-2.06-.94 2.06-2.06.94z\"/><path d=\"M17.41 7.96l-1.37-1.37c-.4-.4-.92-.59-1.43-.59-.52 0-1.04.2-1.43.59L10.3 9.45l-7.72 7.72c-.78.78-.78 2.05 0 2.83L4 21.41c.39.39.9.59 1.41.59.51 0 1.02-.2 1.41-.59l7.78-7.78 2.81-2.81c.8-.78.8-2.07 0-2.86zM5.41 20L4 18.59l7.72-7.72 1.47 1.35L5.41 20z\"/>\n",
       "  </svg>\n",
       "      </button>\n",
       "      \n",
       "  <style>\n",
       "    .colab-df-container {\n",
       "      display:flex;\n",
       "      flex-wrap:wrap;\n",
       "      gap: 12px;\n",
       "    }\n",
       "\n",
       "    .colab-df-convert {\n",
       "      background-color: #E8F0FE;\n",
       "      border: none;\n",
       "      border-radius: 50%;\n",
       "      cursor: pointer;\n",
       "      display: none;\n",
       "      fill: #1967D2;\n",
       "      height: 32px;\n",
       "      padding: 0 0 0 0;\n",
       "      width: 32px;\n",
       "    }\n",
       "\n",
       "    .colab-df-convert:hover {\n",
       "      background-color: #E2EBFA;\n",
       "      box-shadow: 0px 1px 2px rgba(60, 64, 67, 0.3), 0px 1px 3px 1px rgba(60, 64, 67, 0.15);\n",
       "      fill: #174EA6;\n",
       "    }\n",
       "\n",
       "    [theme=dark] .colab-df-convert {\n",
       "      background-color: #3B4455;\n",
       "      fill: #D2E3FC;\n",
       "    }\n",
       "\n",
       "    [theme=dark] .colab-df-convert:hover {\n",
       "      background-color: #434B5C;\n",
       "      box-shadow: 0px 1px 3px 1px rgba(0, 0, 0, 0.15);\n",
       "      filter: drop-shadow(0px 1px 2px rgba(0, 0, 0, 0.3));\n",
       "      fill: #FFFFFF;\n",
       "    }\n",
       "  </style>\n",
       "\n",
       "      <script>\n",
       "        const buttonEl =\n",
       "          document.querySelector('#df-56356f3d-d04a-4bdf-ac00-f96bf338a285 button.colab-df-convert');\n",
       "        buttonEl.style.display =\n",
       "          google.colab.kernel.accessAllowed ? 'block' : 'none';\n",
       "\n",
       "        async function convertToInteractive(key) {\n",
       "          const element = document.querySelector('#df-56356f3d-d04a-4bdf-ac00-f96bf338a285');\n",
       "          const dataTable =\n",
       "            await google.colab.kernel.invokeFunction('convertToInteractive',\n",
       "                                                     [key], {});\n",
       "          if (!dataTable) return;\n",
       "\n",
       "          const docLinkHtml = 'Like what you see? Visit the ' +\n",
       "            '<a target=\"_blank\" href=https://colab.research.google.com/notebooks/data_table.ipynb>data table notebook</a>'\n",
       "            + ' to learn more about interactive tables.';\n",
       "          element.innerHTML = '';\n",
       "          dataTable['output_type'] = 'display_data';\n",
       "          await google.colab.output.renderOutput(dataTable, element);\n",
       "          const docLink = document.createElement('div');\n",
       "          docLink.innerHTML = docLinkHtml;\n",
       "          element.appendChild(docLink);\n",
       "        }\n",
       "      </script>\n",
       "    </div>\n",
       "  </div>\n",
       "  "
      ],
      "text/plain": [
       "      PatN  PatType  PatProb  SizeH  SizeW  \\\n",
       "0        0        0       10     32     32   \n",
       "1        0        0       10     32     32   \n",
       "2        0        0       10     32     32   \n",
       "3        0        0       10     32     32   \n",
       "4        0        0        9     32     32   \n",
       "...    ...      ...      ...    ...    ...   \n",
       "4195    27        0       10     32     32   \n",
       "4196    27        0       10     32     32   \n",
       "4197    27        0       10     32     32   \n",
       "4198    27        0       10     32     32   \n",
       "4199    27        0       10     32     32   \n",
       "\n",
       "                                                   Data  \n",
       "0     0000000000000001100000000000000000000000000000...  \n",
       "1     0000000000000000001000000000000000000000000000...  \n",
       "2     0000000000000000000010000000000000000000000000...  \n",
       "3     0000000000000000000010000000000000000000000000...  \n",
       "4     0000000000000000000001100000000000000000000000...  \n",
       "...                                                 ...  \n",
       "4195  0001110000000000000000000000000001111111111111...  \n",
       "4196  0000000000000000000011110111110000001100001111...  \n",
       "4197  0000000110000000000000000000000000010011000000...  \n",
       "4198  0000000000000000000000000000000000000011000000...  \n",
       "4199  0000000100000000000000000000000000000001111111...  \n",
       "\n",
       "[4200 rows x 6 columns]"
      ]
     },
     "execution_count": 3,
     "metadata": {},
     "output_type": "execute_result"
    }
   ],
   "source": [
    "#Displaying DataFrame\n",
    "train"
   ]
  },
  {
   "cell_type": "code",
   "execution_count": 4,
   "metadata": {
    "id": "8AHW6zBH-wSk"
   },
   "outputs": [],
   "source": [
    "#Reading Test Data\n",
    "test = pd.read_csv(\"HandChars32_50_Test.txt\", sep = \"#\")"
   ]
  },
  {
   "cell_type": "code",
   "execution_count": 5,
   "metadata": {
    "colab": {
     "base_uri": "https://localhost:8080/",
     "height": 424
    },
    "id": "VVKIuBWu-3l3",
    "outputId": "d6fb394c-7794-4cb9-f7a6-fecf2dc23ce1"
   },
   "outputs": [
    {
     "data": {
      "text/html": [
       "\n",
       "  <div id=\"df-5ebadabc-158a-4eaf-95c5-bceb33158ef8\">\n",
       "    <div class=\"colab-df-container\">\n",
       "      <div>\n",
       "<style scoped>\n",
       "    .dataframe tbody tr th:only-of-type {\n",
       "        vertical-align: middle;\n",
       "    }\n",
       "\n",
       "    .dataframe tbody tr th {\n",
       "        vertical-align: top;\n",
       "    }\n",
       "\n",
       "    .dataframe thead th {\n",
       "        text-align: right;\n",
       "    }\n",
       "</style>\n",
       "<table border=\"1\" class=\"dataframe\">\n",
       "  <thead>\n",
       "    <tr style=\"text-align: right;\">\n",
       "      <th></th>\n",
       "      <th>PatN</th>\n",
       "      <th>PatType</th>\n",
       "      <th>PatProb</th>\n",
       "      <th>SizeH</th>\n",
       "      <th>SizeW</th>\n",
       "      <th>Data</th>\n",
       "    </tr>\n",
       "  </thead>\n",
       "  <tbody>\n",
       "    <tr>\n",
       "      <th>0</th>\n",
       "      <td>0</td>\n",
       "      <td>0</td>\n",
       "      <td>10</td>\n",
       "      <td>32</td>\n",
       "      <td>32</td>\n",
       "      <td>0000000000000000000001111000000000000000000000...</td>\n",
       "    </tr>\n",
       "    <tr>\n",
       "      <th>1</th>\n",
       "      <td>0</td>\n",
       "      <td>0</td>\n",
       "      <td>10</td>\n",
       "      <td>32</td>\n",
       "      <td>32</td>\n",
       "      <td>0000000000000000000000000000110000000000000000...</td>\n",
       "    </tr>\n",
       "    <tr>\n",
       "      <th>2</th>\n",
       "      <td>0</td>\n",
       "      <td>0</td>\n",
       "      <td>10</td>\n",
       "      <td>32</td>\n",
       "      <td>32</td>\n",
       "      <td>0000000000000000110000000000000000000000000000...</td>\n",
       "    </tr>\n",
       "    <tr>\n",
       "      <th>3</th>\n",
       "      <td>0</td>\n",
       "      <td>0</td>\n",
       "      <td>10</td>\n",
       "      <td>32</td>\n",
       "      <td>32</td>\n",
       "      <td>0000000000000000001000000000000000000000000000...</td>\n",
       "    </tr>\n",
       "    <tr>\n",
       "      <th>4</th>\n",
       "      <td>0</td>\n",
       "      <td>0</td>\n",
       "      <td>10</td>\n",
       "      <td>32</td>\n",
       "      <td>32</td>\n",
       "      <td>0000000000000000000001000000000000000000000000...</td>\n",
       "    </tr>\n",
       "    <tr>\n",
       "      <th>...</th>\n",
       "      <td>...</td>\n",
       "      <td>...</td>\n",
       "      <td>...</td>\n",
       "      <td>...</td>\n",
       "      <td>...</td>\n",
       "      <td>...</td>\n",
       "    </tr>\n",
       "    <tr>\n",
       "      <th>1395</th>\n",
       "      <td>27</td>\n",
       "      <td>1</td>\n",
       "      <td>10</td>\n",
       "      <td>32</td>\n",
       "      <td>32</td>\n",
       "      <td>0000000000000000110000000000000000000000000000...</td>\n",
       "    </tr>\n",
       "    <tr>\n",
       "      <th>1396</th>\n",
       "      <td>27</td>\n",
       "      <td>1</td>\n",
       "      <td>10</td>\n",
       "      <td>32</td>\n",
       "      <td>32</td>\n",
       "      <td>0000000000011111000000000000000000000000011111...</td>\n",
       "    </tr>\n",
       "    <tr>\n",
       "      <th>1397</th>\n",
       "      <td>27</td>\n",
       "      <td>1</td>\n",
       "      <td>10</td>\n",
       "      <td>32</td>\n",
       "      <td>32</td>\n",
       "      <td>0000000000000000000000000001110000000000000000...</td>\n",
       "    </tr>\n",
       "    <tr>\n",
       "      <th>1398</th>\n",
       "      <td>27</td>\n",
       "      <td>1</td>\n",
       "      <td>10</td>\n",
       "      <td>32</td>\n",
       "      <td>32</td>\n",
       "      <td>0001000000000000000000000000000000111111111111...</td>\n",
       "    </tr>\n",
       "    <tr>\n",
       "      <th>1399</th>\n",
       "      <td>27</td>\n",
       "      <td>1</td>\n",
       "      <td>10</td>\n",
       "      <td>32</td>\n",
       "      <td>32</td>\n",
       "      <td>0000000000000000000110000000000000000000111111...</td>\n",
       "    </tr>\n",
       "  </tbody>\n",
       "</table>\n",
       "<p>1400 rows × 6 columns</p>\n",
       "</div>\n",
       "      <button class=\"colab-df-convert\" onclick=\"convertToInteractive('df-5ebadabc-158a-4eaf-95c5-bceb33158ef8')\"\n",
       "              title=\"Convert this dataframe to an interactive table.\"\n",
       "              style=\"display:none;\">\n",
       "        \n",
       "  <svg xmlns=\"http://www.w3.org/2000/svg\" height=\"24px\"viewBox=\"0 0 24 24\"\n",
       "       width=\"24px\">\n",
       "    <path d=\"M0 0h24v24H0V0z\" fill=\"none\"/>\n",
       "    <path d=\"M18.56 5.44l.94 2.06.94-2.06 2.06-.94-2.06-.94-.94-2.06-.94 2.06-2.06.94zm-11 1L8.5 8.5l.94-2.06 2.06-.94-2.06-.94L8.5 2.5l-.94 2.06-2.06.94zm10 10l.94 2.06.94-2.06 2.06-.94-2.06-.94-.94-2.06-.94 2.06-2.06.94z\"/><path d=\"M17.41 7.96l-1.37-1.37c-.4-.4-.92-.59-1.43-.59-.52 0-1.04.2-1.43.59L10.3 9.45l-7.72 7.72c-.78.78-.78 2.05 0 2.83L4 21.41c.39.39.9.59 1.41.59.51 0 1.02-.2 1.41-.59l7.78-7.78 2.81-2.81c.8-.78.8-2.07 0-2.86zM5.41 20L4 18.59l7.72-7.72 1.47 1.35L5.41 20z\"/>\n",
       "  </svg>\n",
       "      </button>\n",
       "      \n",
       "  <style>\n",
       "    .colab-df-container {\n",
       "      display:flex;\n",
       "      flex-wrap:wrap;\n",
       "      gap: 12px;\n",
       "    }\n",
       "\n",
       "    .colab-df-convert {\n",
       "      background-color: #E8F0FE;\n",
       "      border: none;\n",
       "      border-radius: 50%;\n",
       "      cursor: pointer;\n",
       "      display: none;\n",
       "      fill: #1967D2;\n",
       "      height: 32px;\n",
       "      padding: 0 0 0 0;\n",
       "      width: 32px;\n",
       "    }\n",
       "\n",
       "    .colab-df-convert:hover {\n",
       "      background-color: #E2EBFA;\n",
       "      box-shadow: 0px 1px 2px rgba(60, 64, 67, 0.3), 0px 1px 3px 1px rgba(60, 64, 67, 0.15);\n",
       "      fill: #174EA6;\n",
       "    }\n",
       "\n",
       "    [theme=dark] .colab-df-convert {\n",
       "      background-color: #3B4455;\n",
       "      fill: #D2E3FC;\n",
       "    }\n",
       "\n",
       "    [theme=dark] .colab-df-convert:hover {\n",
       "      background-color: #434B5C;\n",
       "      box-shadow: 0px 1px 3px 1px rgba(0, 0, 0, 0.15);\n",
       "      filter: drop-shadow(0px 1px 2px rgba(0, 0, 0, 0.3));\n",
       "      fill: #FFFFFF;\n",
       "    }\n",
       "  </style>\n",
       "\n",
       "      <script>\n",
       "        const buttonEl =\n",
       "          document.querySelector('#df-5ebadabc-158a-4eaf-95c5-bceb33158ef8 button.colab-df-convert');\n",
       "        buttonEl.style.display =\n",
       "          google.colab.kernel.accessAllowed ? 'block' : 'none';\n",
       "\n",
       "        async function convertToInteractive(key) {\n",
       "          const element = document.querySelector('#df-5ebadabc-158a-4eaf-95c5-bceb33158ef8');\n",
       "          const dataTable =\n",
       "            await google.colab.kernel.invokeFunction('convertToInteractive',\n",
       "                                                     [key], {});\n",
       "          if (!dataTable) return;\n",
       "\n",
       "          const docLinkHtml = 'Like what you see? Visit the ' +\n",
       "            '<a target=\"_blank\" href=https://colab.research.google.com/notebooks/data_table.ipynb>data table notebook</a>'\n",
       "            + ' to learn more about interactive tables.';\n",
       "          element.innerHTML = '';\n",
       "          dataTable['output_type'] = 'display_data';\n",
       "          await google.colab.output.renderOutput(dataTable, element);\n",
       "          const docLink = document.createElement('div');\n",
       "          docLink.innerHTML = docLinkHtml;\n",
       "          element.appendChild(docLink);\n",
       "        }\n",
       "      </script>\n",
       "    </div>\n",
       "  </div>\n",
       "  "
      ],
      "text/plain": [
       "      PatN  PatType  PatProb  SizeH  SizeW  \\\n",
       "0        0        0       10     32     32   \n",
       "1        0        0       10     32     32   \n",
       "2        0        0       10     32     32   \n",
       "3        0        0       10     32     32   \n",
       "4        0        0       10     32     32   \n",
       "...    ...      ...      ...    ...    ...   \n",
       "1395    27        1       10     32     32   \n",
       "1396    27        1       10     32     32   \n",
       "1397    27        1       10     32     32   \n",
       "1398    27        1       10     32     32   \n",
       "1399    27        1       10     32     32   \n",
       "\n",
       "                                                   Data  \n",
       "0     0000000000000000000001111000000000000000000000...  \n",
       "1     0000000000000000000000000000110000000000000000...  \n",
       "2     0000000000000000110000000000000000000000000000...  \n",
       "3     0000000000000000001000000000000000000000000000...  \n",
       "4     0000000000000000000001000000000000000000000000...  \n",
       "...                                                 ...  \n",
       "1395  0000000000000000110000000000000000000000000000...  \n",
       "1396  0000000000011111000000000000000000000000011111...  \n",
       "1397  0000000000000000000000000001110000000000000000...  \n",
       "1398  0001000000000000000000000000000000111111111111...  \n",
       "1399  0000000000000000000110000000000000000000111111...  \n",
       "\n",
       "[1400 rows x 6 columns]"
      ]
     },
     "execution_count": 5,
     "metadata": {},
     "output_type": "execute_result"
    }
   ],
   "source": [
    "#Displaying Test Data\n",
    "test"
   ]
  },
  {
   "cell_type": "markdown",
   "metadata": {
    "id": "pYd5eecs_P4k"
   },
   "source": [
    "# Data Visualization"
   ]
  },
  {
   "cell_type": "code",
   "execution_count": 6,
   "metadata": {
    "colab": {
     "base_uri": "https://localhost:8080/",
     "height": 401
    },
    "id": "DNxanL6Q-3cl",
    "outputId": "d0f749e9-3017-47b1-b9f4-8ca51b83efff"
   },
   "outputs": [
    {
     "data": {
      "image/png": "[encoded data removed]",
      "text/plain": [
       "<Figure size 1008x504 with 16 Axes>"
      ]
     },
     "metadata": {
      "needs_background": "light"
     },
     "output_type": "display_data"
    }
   ],
   "source": [
    "#Creating Figure for Displaying Several Images\n",
    "fig, axs = plt.subplots(2, 8, figsize = (14, 7))\n",
    "\n",
    "#Setting Title for Each Axis to distinguish Train and Test Images\n",
    "axs[0][0].set_title(\"Train Set\\n\", size = 30)\n",
    "axs[1][0].set_title(\"Test Set\\n\", size = 30)\n",
    "\n",
    "#Creating Random Indices for Train and Test Data to Display different Images\n",
    "rand_train_indices = random.sample(range(len(train)), 8)\n",
    "rand_test_indices = random.sample(range(len(test)), 8)\n",
    "\n",
    "#Displaying Train Images\n",
    "k = 0\n",
    "for i in rand_train_indices:\n",
    "    image = []\n",
    "    for j in train[\"Data\"].values[i]:\n",
    "        image.append(int(j))\n",
    "    axs[0][k].imshow(np.array(image).reshape(train[\"SizeH\"].values[i], train[\"SizeW\"].values[i]), cmap = \"gray\")\n",
    "    k = k + 1\n",
    "\n",
    "#Displaying Test Images\n",
    "t = 0\n",
    "for i in rand_test_indices:\n",
    "    image = []\n",
    "    for j in test[\"Data\"].values[i]:\n",
    "        image.append(int(j))\n",
    "    axs[1][t].imshow(np.array(image).reshape(test[\"SizeH\"].values[i], test[\"SizeW\"].values[i]), cmap = \"gray\")\n",
    "    t = t + 1"
   ]
  },
  {
   "cell_type": "markdown",
   "metadata": {
    "id": "_qJRm5TG28AD"
   },
   "source": [
    "# Extracting and Reshaping Datasets"
   ]
  },
  {
   "cell_type": "code",
   "execution_count": 7,
   "metadata": {
    "id": "tHF8EPZ8Iftu"
   },
   "outputs": [],
   "source": [
    "#Creating Function to Extract Data\n",
    "def extract(data):\n",
    "    #Extracting Image Data\n",
    "    image_data = []\n",
    "    for i in range(len(data)):\n",
    "        image = []\n",
    "        for j in data[\"Data\"].values[i]:\n",
    "            image.append(int(j))\n",
    "        image_data.append(np.array(image).reshape(data[\"SizeH\"].values[i], data[\"SizeW\"].values[i]))\n",
    "  \n",
    "    #Extracting Image Labels\n",
    "    image_labels = []\n",
    "    for i in range(len(data)):\n",
    "        image_labels.append(int(data[\"PatN\"].values[i]))\n",
    "    \n",
    "    #Returning Image Data and their Corresponding Labels\n",
    "    return np.array(image_data, dtype = \"uint8\"), np.array(image_labels, dtype = \"uint8\")"
   ]
  },
  {
   "cell_type": "code",
   "execution_count": 8,
   "metadata": {
    "id": "xwjOzzHoyHtg"
   },
   "outputs": [],
   "source": [
    "#Extracting Train Images and Labels\n",
    "train_data, train_labels = extract(train)"
   ]
  },
  {
   "cell_type": "code",
   "execution_count": 9,
   "metadata": {
    "id": "DPJEg_7SyOFX"
   },
   "outputs": [],
   "source": [
    "#Extracting Test Images and Labels\n",
    "X_test, y_test = extract(test)"
   ]
  },
  {
   "cell_type": "code",
   "execution_count": 10,
   "metadata": {
    "id": "Bu574UQKlDTJ"
   },
   "outputs": [],
   "source": [
    "#Giving 24% of Train Data to Validation Data in order to Evaluate Model during training and Prevent Overfitting\n",
    "X_train, X_val, y_train, y_val = train_test_split(train_data, train_labels, test_size = 0.24, random_state = 42)"
   ]
  },
  {
   "cell_type": "code",
   "execution_count": 11,
   "metadata": {
    "colab": {
     "base_uri": "https://localhost:8080/"
    },
    "id": "G4LYDRPklDO5",
    "outputId": "e9dcff00-61b8-4e4d-f48b-12141ab47e83"
   },
   "outputs": [
    {
     "name": "stdout",
     "output_type": "stream",
     "text": [
      "Train Data: 3192\n",
      "Validation Data: 1008\n",
      "Test Data: 1400\n"
     ]
    }
   ],
   "source": [
    "#Checking Lengths of All Data which will be used in Model Training and Evaluation\n",
    "print(\"Train Data:\", len(y_train))\n",
    "print(\"Validation Data:\", len(y_val))\n",
    "print(\"Test Data:\", len(y_test))"
   ]
  },
  {
   "cell_type": "code",
   "execution_count": 12,
   "metadata": {
    "id": "sd5zLincnArc"
   },
   "outputs": [],
   "source": [
    "#Creating Function to Reshape Input Data (Images) for Modelling\n",
    "def reshape(data):\n",
    "    #Reshaping Input Data\n",
    "    data = data.reshape(data.shape[0], 32, 32, 1)\n",
    "    #Returning Reshaped Data\n",
    "    return data"
   ]
  },
  {
   "cell_type": "code",
   "execution_count": 13,
   "metadata": {
    "id": "QJNDvrGDNJX0"
   },
   "outputs": [],
   "source": [
    "#Reshaping Datasets\n",
    "X_train = reshape(X_train)\n",
    "X_val = reshape(X_val)\n",
    "X_test = reshape(X_test)"
   ]
  },
  {
   "cell_type": "code",
   "execution_count": 14,
   "metadata": {
    "colab": {
     "base_uri": "https://localhost:8080/"
    },
    "id": "gwT9LCHCovU9",
    "outputId": "6aecd5f9-0587-4a5a-e374-e167d14d4630"
   },
   "outputs": [
    {
     "name": "stdout",
     "output_type": "stream",
     "text": [
      "Train Data: (3192, 32, 32, 1)\n",
      "Validation Data: (1008, 32, 32, 1)\n",
      "Test Data: (1400, 32, 32, 1)\n"
     ]
    }
   ],
   "source": [
    "#Checking Shapes of All Data which will be used in Model Training and Evaluation\n",
    "print(\"Train Data:\", X_train.shape)\n",
    "print(\"Validation Data:\", X_val.shape)\n",
    "print(\"Test Data:\", X_test.shape)"
   ]
  },
  {
   "cell_type": "code",
   "execution_count": 15,
   "metadata": {
    "id": "dOJ-Q0wsQ6cf"
   },
   "outputs": [],
   "source": [
    "#Initializing Label Binarizer\n",
    "label_binarizer = preprocessing.LabelBinarizer()\n",
    "#Binarizing Labels of Train, Validation, and Test Data\n",
    "y_train = label_binarizer.fit_transform(y_train)\n",
    "y_val = label_binarizer.fit_transform(y_val)\n",
    "y_test = label_binarizer.fit_transform(y_test)"
   ]
  },
  {
   "cell_type": "markdown",
   "metadata": {
    "id": "A6xQkk3YDI6t"
   },
   "source": [
    "# Modelling"
   ]
  },
  {
   "cell_type": "markdown",
   "metadata": {
    "id": "fjP-5c3x9KZh"
   },
   "source": [
    "## First Design"
   ]
  },
  {
   "cell_type": "code",
   "execution_count": 16,
   "metadata": {
    "colab": {
     "base_uri": "https://localhost:8080/"
    },
    "id": "nl-PnqY6Q6WP",
    "outputId": "ee6f5df1-9fbb-4dae-b8b4-dabbb22b0a3a",
    "scrolled": true
   },
   "outputs": [
    {
     "name": "stdout",
     "output_type": "stream",
     "text": [
      "Model: \"sequential\"\n",
      "_________________________________________________________________\n",
      " Layer (type)                Output Shape              Param #   \n",
      "=================================================================\n",
      " conv2d (Conv2D)             (None, 32, 32, 32)        832       \n",
      "                                                                 \n",
      " max_pooling2d (MaxPooling2D  (None, 16, 16, 32)       0         \n",
      " )                                                               \n",
      "                                                                 \n",
      " dropout (Dropout)           (None, 16, 16, 32)        0         \n",
      "                                                                 \n",
      " conv2d_1 (Conv2D)           (None, 16, 16, 64)        51264     \n",
      "                                                                 \n",
      " max_pooling2d_1 (MaxPooling  (None, 8, 8, 64)         0         \n",
      " 2D)                                                             \n",
      "                                                                 \n",
      " dropout_1 (Dropout)         (None, 8, 8, 64)          0         \n",
      "                                                                 \n",
      " flatten (Flatten)           (None, 4096)              0         \n",
      "                                                                 \n",
      " dense (Dense)               (None, 256)               1048832   \n",
      "                                                                 \n",
      " dropout_2 (Dropout)         (None, 256)               0         \n",
      "                                                                 \n",
      " dense_1 (Dense)             (None, 28)                7196      \n",
      "                                                                 \n",
      "=================================================================\n",
      "Total params: 1,108,124\n",
      "Trainable params: 1,108,124\n",
      "Non-trainable params: 0\n",
      "_________________________________________________________________\n"
     ]
    }
   ],
   "source": [
    "#Initializing Sequential Model\n",
    "model = Sequential()\n",
    "#Adding the Convolutional Layer\n",
    "model.add(Conv2D(32, (5, 5), padding = 'SAME', activation = 'relu', input_shape = (32, 32, 1)))\n",
    "#Adding Pooling Layer\n",
    "model.add(MaxPooling2D(pool_size = (2, 2)))\n",
    "#Adding Dropout layer to prevent Overfitting\n",
    "model.add(Dropout(0.5))\n",
    "#Adding Convolutional Layer\n",
    "model.add(Conv2D(64, (5, 5), padding = 'SAME', activation = 'relu'))\n",
    "#Adding Pooling Layer\n",
    "model.add(MaxPooling2D(pool_size = (2, 2)))\n",
    "#Adding Dropout Layer\n",
    "model.add(Dropout(0.5))\n",
    "#Adding Flatten to make image 1 dimensional array\n",
    "model.add(Flatten())\n",
    "#Adding Dense Layer\n",
    "model.add(Dense(256, activation = 'relu'))\n",
    "#Adding Dropout Layer\n",
    "model.add(Dropout(0.5))\n",
    "#Adding Dense Layer\n",
    "model.add(Dense(28, activation = 'softmax'))\n",
    "#Printing Model Summary\n",
    "model.summary()"
   ]
  },
  {
   "cell_type": "code",
   "execution_count": 17,
   "metadata": {
    "id": "8b8f7qbsQ6Uf"
   },
   "outputs": [],
   "source": [
    "#Compiling the Model\n",
    "model.compile(optimizer = 'rmsprop', loss = 'categorical_crossentropy', metrics = ['accuracy'])"
   ]
  },
  {
   "cell_type": "code",
   "execution_count": 18,
   "metadata": {
    "id": "gUmLQ0fNQ-0a"
   },
   "outputs": [],
   "source": [
    "#Here, we have 2 callbacks. ModelCheckpoint saves the model during training based on the lowest val_loss value\n",
    "my_check = ModelCheckpoint('FirstDesignBestModel.h5',\n",
    "                           monitor = \"val_loss\",\n",
    "                           mode = 'min',\n",
    "                           save_best_only = True,\n",
    "                           verbose = 1)"
   ]
  },
  {
   "cell_type": "code",
   "execution_count": 19,
   "metadata": {
    "colab": {
     "base_uri": "https://localhost:8080/"
    },
    "id": "JAop_yamQ-wR",
    "outputId": "d0814433-afe7-4b2c-ea5e-075e2bade4b9"
   },
   "outputs": [
    {
     "name": "stdout",
     "output_type": "stream",
     "text": [
      "Epoch 1/30\n",
      "100/100 [==============================] - ETA: 0s - loss: 1.9579 - accuracy: 0.4389\n",
      "Epoch 1: val_loss improved from inf to 0.63910, saving model to FirstDesignBestModel.h5\n",
      "100/100 [==============================] - 24s 216ms/step - loss: 1.9579 - accuracy: 0.4389 - val_loss: 0.6391 - val_accuracy: 0.8452\n",
      "Epoch 2/30\n",
      "100/100 [==============================] - ETA: 0s - loss: 0.7946 - accuracy: 0.7594\n",
      "Epoch 2: val_loss improved from 0.63910 to 0.40804, saving model to FirstDesignBestModel.h5\n",
      "100/100 [==============================] - 12s 124ms/step - loss: 0.7946 - accuracy: 0.7594 - val_loss: 0.4080 - val_accuracy: 0.8879\n",
      "Epoch 3/30\n",
      "100/100 [==============================] - ETA: 0s - loss: 0.4901 - accuracy: 0.8506\n",
      "Epoch 3: val_loss improved from 0.40804 to 0.28078, saving model to FirstDesignBestModel.h5\n",
      "100/100 [==============================] - 12s 124ms/step - loss: 0.4901 - accuracy: 0.8506 - val_loss: 0.2808 - val_accuracy: 0.9038\n",
      "Epoch 4/30\n",
      "100/100 [==============================] - ETA: 0s - loss: 0.3718 - accuracy: 0.8875\n",
      "Epoch 4: val_loss improved from 0.28078 to 0.21377, saving model to FirstDesignBestModel.h5\n",
      "100/100 [==============================] - 12s 124ms/step - loss: 0.3718 - accuracy: 0.8875 - val_loss: 0.2138 - val_accuracy: 0.9335\n",
      "Epoch 5/30\n",
      "100/100 [==============================] - ETA: 0s - loss: 0.2925 - accuracy: 0.8997\n",
      "Epoch 5: val_loss did not improve from 0.21377\n",
      "100/100 [==============================] - 12s 123ms/step - loss: 0.2925 - accuracy: 0.8997 - val_loss: 0.2243 - val_accuracy: 0.9286\n",
      "Epoch 6/30\n",
      "100/100 [==============================] - ETA: 0s - loss: 0.2301 - accuracy: 0.9229\n",
      "Epoch 6: val_loss improved from 0.21377 to 0.18846, saving model to FirstDesignBestModel.h5\n",
      "100/100 [==============================] - 12s 124ms/step - loss: 0.2301 - accuracy: 0.9229 - val_loss: 0.1885 - val_accuracy: 0.9435\n",
      "Epoch 7/30\n",
      "100/100 [==============================] - ETA: 0s - loss: 0.1987 - accuracy: 0.9389\n",
      "Epoch 7: val_loss did not improve from 0.18846\n",
      "100/100 [==============================] - 12s 123ms/step - loss: 0.1987 - accuracy: 0.9389 - val_loss: 0.2007 - val_accuracy: 0.9345\n",
      "Epoch 8/30\n",
      "100/100 [==============================] - ETA: 0s - loss: 0.1782 - accuracy: 0.9436\n",
      "Epoch 8: val_loss improved from 0.18846 to 0.16455, saving model to FirstDesignBestModel.h5\n",
      "100/100 [==============================] - 12s 124ms/step - loss: 0.1782 - accuracy: 0.9436 - val_loss: 0.1646 - val_accuracy: 0.9474\n",
      "Epoch 9/30\n",
      "100/100 [==============================] - ETA: 0s - loss: 0.1732 - accuracy: 0.9405\n",
      "Epoch 9: val_loss improved from 0.16455 to 0.15375, saving model to FirstDesignBestModel.h5\n",
      "100/100 [==============================] - 14s 141ms/step - loss: 0.1732 - accuracy: 0.9405 - val_loss: 0.1538 - val_accuracy: 0.9464\n",
      "Epoch 10/30\n",
      "100/100 [==============================] - ETA: 0s - loss: 0.1417 - accuracy: 0.9527\n",
      "Epoch 10: val_loss improved from 0.15375 to 0.15243, saving model to FirstDesignBestModel.h5\n",
      "100/100 [==============================] - 12s 124ms/step - loss: 0.1417 - accuracy: 0.9527 - val_loss: 0.1524 - val_accuracy: 0.9514\n",
      "Epoch 11/30\n",
      "100/100 [==============================] - ETA: 0s - loss: 0.1248 - accuracy: 0.9593\n",
      "Epoch 11: val_loss improved from 0.15243 to 0.14482, saving model to FirstDesignBestModel.h5\n",
      "100/100 [==============================] - 12s 123ms/step - loss: 0.1248 - accuracy: 0.9593 - val_loss: 0.1448 - val_accuracy: 0.9494\n",
      "Epoch 12/30\n",
      "100/100 [==============================] - ETA: 0s - loss: 0.1090 - accuracy: 0.9652\n",
      "Epoch 12: val_loss improved from 0.14482 to 0.13827, saving model to FirstDesignBestModel.h5\n",
      "100/100 [==============================] - 12s 123ms/step - loss: 0.1090 - accuracy: 0.9652 - val_loss: 0.1383 - val_accuracy: 0.9554\n",
      "Epoch 13/30\n",
      "100/100 [==============================] - ETA: 0s - loss: 0.1142 - accuracy: 0.9668\n",
      "Epoch 13: val_loss did not improve from 0.13827\n",
      "100/100 [==============================] - 12s 124ms/step - loss: 0.1142 - accuracy: 0.9668 - val_loss: 0.1567 - val_accuracy: 0.9544\n",
      "Epoch 14/30\n",
      "100/100 [==============================] - ETA: 0s - loss: 0.1062 - accuracy: 0.9624\n",
      "Epoch 14: val_loss improved from 0.13827 to 0.13281, saving model to FirstDesignBestModel.h5\n",
      "100/100 [==============================] - 12s 124ms/step - loss: 0.1062 - accuracy: 0.9624 - val_loss: 0.1328 - val_accuracy: 0.9633\n",
      "Epoch 15/30\n",
      "100/100 [==============================] - ETA: 0s - loss: 0.0978 - accuracy: 0.9699\n",
      "Epoch 15: val_loss improved from 0.13281 to 0.12866, saving model to FirstDesignBestModel.h5\n",
      "100/100 [==============================] - 12s 124ms/step - loss: 0.0978 - accuracy: 0.9699 - val_loss: 0.1287 - val_accuracy: 0.9603\n",
      "Epoch 16/30\n",
      "100/100 [==============================] - ETA: 0s - loss: 0.0878 - accuracy: 0.9690\n",
      "Epoch 16: val_loss did not improve from 0.12866\n",
      "100/100 [==============================] - 12s 124ms/step - loss: 0.0878 - accuracy: 0.9690 - val_loss: 0.1375 - val_accuracy: 0.9554\n",
      "Epoch 17/30\n",
      "100/100 [==============================] - ETA: 0s - loss: 0.0837 - accuracy: 0.9715\n",
      "Epoch 17: val_loss did not improve from 0.12866\n",
      "100/100 [==============================] - 12s 123ms/step - loss: 0.0837 - accuracy: 0.9715 - val_loss: 0.1421 - val_accuracy: 0.9573\n",
      "Epoch 18/30\n",
      "100/100 [==============================] - ETA: 0s - loss: 0.0836 - accuracy: 0.9721\n",
      "Epoch 18: val_loss did not improve from 0.12866\n",
      "100/100 [==============================] - 12s 122ms/step - loss: 0.0836 - accuracy: 0.9721 - val_loss: 0.1461 - val_accuracy: 0.9573\n",
      "Epoch 19/30\n",
      "100/100 [==============================] - ETA: 0s - loss: 0.0644 - accuracy: 0.9781\n",
      "Epoch 19: val_loss did not improve from 0.12866\n",
      "100/100 [==============================] - 12s 123ms/step - loss: 0.0644 - accuracy: 0.9781 - val_loss: 0.1536 - val_accuracy: 0.9613\n",
      "Epoch 20/30\n",
      "100/100 [==============================] - ETA: 0s - loss: 0.0713 - accuracy: 0.9771\n",
      "Epoch 20: val_loss did not improve from 0.12866\n",
      "100/100 [==============================] - 12s 123ms/step - loss: 0.0713 - accuracy: 0.9771 - val_loss: 0.1398 - val_accuracy: 0.9623\n",
      "Epoch 21/30\n",
      "100/100 [==============================] - ETA: 0s - loss: 0.0543 - accuracy: 0.9818\n",
      "Epoch 21: val_loss did not improve from 0.12866\n",
      "100/100 [==============================] - 12s 123ms/step - loss: 0.0543 - accuracy: 0.9818 - val_loss: 0.1531 - val_accuracy: 0.9613\n",
      "Epoch 22/30\n",
      "100/100 [==============================] - ETA: 0s - loss: 0.0717 - accuracy: 0.9781\n",
      "Epoch 22: val_loss did not improve from 0.12866\n",
      "100/100 [==============================] - 12s 122ms/step - loss: 0.0717 - accuracy: 0.9781 - val_loss: 0.1418 - val_accuracy: 0.9593\n",
      "Epoch 23/30\n",
      "100/100 [==============================] - ETA: 0s - loss: 0.0623 - accuracy: 0.9790\n",
      "Epoch 23: val_loss did not improve from 0.12866\n",
      "100/100 [==============================] - 12s 122ms/step - loss: 0.0623 - accuracy: 0.9790 - val_loss: 0.1371 - val_accuracy: 0.9593\n",
      "Epoch 24/30\n",
      "100/100 [==============================] - ETA: 0s - loss: 0.0577 - accuracy: 0.9812\n",
      "Epoch 24: val_loss did not improve from 0.12866\n",
      "100/100 [==============================] - 12s 123ms/step - loss: 0.0577 - accuracy: 0.9812 - val_loss: 0.1389 - val_accuracy: 0.9623\n",
      "Epoch 25/30\n",
      "100/100 [==============================] - ETA: 0s - loss: 0.0487 - accuracy: 0.9840\n",
      "Epoch 25: val_loss did not improve from 0.12866\n",
      "100/100 [==============================] - 12s 124ms/step - loss: 0.0487 - accuracy: 0.9840 - val_loss: 0.1547 - val_accuracy: 0.9593\n",
      "Epoch 26/30\n",
      "100/100 [==============================] - ETA: 0s - loss: 0.0715 - accuracy: 0.9784\n",
      "Epoch 26: val_loss did not improve from 0.12866\n",
      "100/100 [==============================] - 12s 124ms/step - loss: 0.0715 - accuracy: 0.9784 - val_loss: 0.1341 - val_accuracy: 0.9613\n",
      "Epoch 27/30\n",
      "100/100 [==============================] - ETA: 0s - loss: 0.0553 - accuracy: 0.9825\n",
      "Epoch 27: val_loss did not improve from 0.12866\n",
      "100/100 [==============================] - 12s 123ms/step - loss: 0.0553 - accuracy: 0.9825 - val_loss: 0.1418 - val_accuracy: 0.9633\n",
      "Epoch 28/30\n",
      "100/100 [==============================] - ETA: 0s - loss: 0.0525 - accuracy: 0.9840\n",
      "Epoch 28: val_loss did not improve from 0.12866\n",
      "100/100 [==============================] - 12s 122ms/step - loss: 0.0525 - accuracy: 0.9840 - val_loss: 0.1541 - val_accuracy: 0.9623\n",
      "Epoch 29/30\n",
      "100/100 [==============================] - ETA: 0s - loss: 0.0467 - accuracy: 0.9825\n",
      "Epoch 29: val_loss did not improve from 0.12866\n",
      "100/100 [==============================] - 12s 122ms/step - loss: 0.0467 - accuracy: 0.9825 - val_loss: 0.1643 - val_accuracy: 0.9563\n",
      "Epoch 30/30\n",
      "100/100 [==============================] - ETA: 0s - loss: 0.0573 - accuracy: 0.9812\n",
      "Epoch 30: val_loss did not improve from 0.12866\n",
      "100/100 [==============================] - 12s 123ms/step - loss: 0.0573 - accuracy: 0.9812 - val_loss: 0.1499 - val_accuracy: 0.9613\n"
     ]
    }
   ],
   "source": [
    "#Training the Model and Appending All Parameters to history\n",
    "history = model.fit(X_train, y_train,\n",
    "                    epochs = 30,\n",
    "                    validation_data = (X_val, y_val),\n",
    "                    validation_steps = 10, \n",
    "                    callbacks = [my_check], \n",
    "                    verbose = 1)"
   ]
  },
  {
   "cell_type": "code",
   "execution_count": 20,
   "metadata": {
    "colab": {
     "base_uri": "https://localhost:8080/",
     "height": 300
    },
    "id": "wPdhJ8lWhlru",
    "outputId": "ebdb562e-0c5f-4cbf-c365-a361833da433"
   },
   "outputs": [
    {
     "data": {
      "image/png": "[encoded data removed]",
      "text/plain": [
       "<Figure size 432x288 with 1 Axes>"
      ]
     },
     "metadata": {
      "needs_background": "light"
     },
     "output_type": "display_data"
    }
   ],
   "source": [
    "#Plotting Training and Validation Loss\n",
    "plt.plot(history.history['loss'])\n",
    "plt.plot(history.history['val_loss'])\n",
    "plt.legend(['Training', 'Validation'])\n",
    "plt.title('Training and Validation Loss', size = 15)\n",
    "plt.xlabel('Epoch', size = 12)\n",
    "plt.show()"
   ]
  },
  {
   "cell_type": "code",
   "execution_count": 21,
   "metadata": {
    "colab": {
     "base_uri": "https://localhost:8080/",
     "height": 300
    },
    "id": "JmSLl4T0h67d",
    "outputId": "ef6a08ba-2fe2-4095-8928-d6c255836070"
   },
   "outputs": [
    {
     "data": {
      "image/png": "[encoded data removed]",
      "text/plain": [
       "<Figure size 432x288 with 1 Axes>"
      ]
     },
     "metadata": {
      "needs_background": "light"
     },
     "output_type": "display_data"
    }
   ],
   "source": [
    "#Plotting Training and Validation Accuracies\n",
    "plt.plot(history.history['accuracy'])\n",
    "plt.plot(history.history['val_accuracy'])\n",
    "plt.legend(['Training', 'Validation'])\n",
    "plt.title('Training and Validation Accuracy', size = 15)\n",
    "plt.xlabel('Epoch', size = 12)\n",
    "plt.show()"
   ]
  },
  {
   "cell_type": "code",
   "execution_count": 22,
   "metadata": {
    "id": "VeoA5LOqh63O"
   },
   "outputs": [],
   "source": [
    "#Loading the Best Model that is Saved during Training Process\n",
    "saved_model = load_model('FirstDesignBestModel.h5')"
   ]
  },
  {
   "cell_type": "code",
   "execution_count": 23,
   "metadata": {
    "colab": {
     "base_uri": "https://localhost:8080/"
    },
    "id": "CzOvaOp0h6ts",
    "outputId": "53a7347d-6dfa-42e3-a6db-860088c44357"
   },
   "outputs": [
    {
     "name": "stdout",
     "output_type": "stream",
     "text": [
      "44/44 [==============================] - 1s 29ms/step - loss: 0.7611 - accuracy: 0.8500\n",
      "Test Accuracy :0.8500000238418579 Test Loss:0.7611434459686279\n"
     ]
    }
   ],
   "source": [
    "#Evaluating Test Data and Printing Test Accuracy and Loss\n",
    "test_loss, test_accuracy = saved_model.evaluate(X_test, y_test)\n",
    "print('Test Accuracy :{} Test Loss:{}'.format(test_accuracy, test_loss))"
   ]
  },
  {
   "cell_type": "markdown",
   "metadata": {
    "id": "beB-fX3h9bzr"
   },
   "source": [
    "## Second Design"
   ]
  },
  {
   "cell_type": "code",
   "execution_count": 24,
   "metadata": {
    "colab": {
     "base_uri": "https://localhost:8080/"
    },
    "id": "FJIn6_86709X",
    "outputId": "9d1a275b-1080-40df-ac31-201077ac7758",
    "scrolled": true
   },
   "outputs": [
    {
     "name": "stdout",
     "output_type": "stream",
     "text": [
      "Model: \"sequential_1\"\n",
      "_________________________________________________________________\n",
      " Layer (type)                Output Shape              Param #   \n",
      "=================================================================\n",
      " conv2d_2 (Conv2D)           (None, 32, 32, 32)        832       \n",
      "                                                                 \n",
      " max_pooling2d_2 (MaxPooling  (None, 16, 16, 32)       0         \n",
      " 2D)                                                             \n",
      "                                                                 \n",
      " dropout_3 (Dropout)         (None, 16, 16, 32)        0         \n",
      "                                                                 \n",
      " conv2d_3 (Conv2D)           (None, 16, 16, 64)        51264     \n",
      "                                                                 \n",
      " max_pooling2d_3 (MaxPooling  (None, 8, 8, 64)         0         \n",
      " 2D)                                                             \n",
      "                                                                 \n",
      " dropout_4 (Dropout)         (None, 8, 8, 64)          0         \n",
      "                                                                 \n",
      " flatten_1 (Flatten)         (None, 4096)              0         \n",
      "                                                                 \n",
      " dense_2 (Dense)             (None, 100)               409700    \n",
      "                                                                 \n",
      " dropout_5 (Dropout)         (None, 100)               0         \n",
      "                                                                 \n",
      " dense_3 (Dense)             (None, 200)               20200     \n",
      "                                                                 \n",
      " dropout_6 (Dropout)         (None, 200)               0         \n",
      "                                                                 \n",
      " dense_4 (Dense)             (None, 100)               20100     \n",
      "                                                                 \n",
      " dropout_7 (Dropout)         (None, 100)               0         \n",
      "                                                                 \n",
      " dense_5 (Dense)             (None, 28)                2828      \n",
      "                                                                 \n",
      "=================================================================\n",
      "Total params: 504,924\n",
      "Trainable params: 504,924\n",
      "Non-trainable params: 0\n",
      "_________________________________________________________________\n"
     ]
    }
   ],
   "source": [
    "#Initializing Sequential Model\n",
    "model = Sequential()\n",
    "#Adding the Convolutional Layer\n",
    "model.add(Conv2D(32, (5, 5), padding = 'SAME', activation = 'relu', input_shape = (32, 32, 1)))\n",
    "#Adding Pooling Layer\n",
    "model.add(MaxPooling2D(pool_size = (2, 2)))\n",
    "#Adding Dropout layer to prevent Overfitting\n",
    "model.add(Dropout(0.5))\n",
    "#Adding Convolutional Layer\n",
    "model.add(Conv2D(64, (5, 5), padding = 'SAME', activation = 'relu'))\n",
    "#Adding Pooling Layer\n",
    "model.add(MaxPooling2D(pool_size = (2, 2)))\n",
    "#Adding Dropout Layer\n",
    "model.add(Dropout(0.5))\n",
    "#Adding Flatten to make image 1 dimensional array\n",
    "model.add(Flatten())\n",
    "#Adding Dense Layer\n",
    "model.add(Dense(100, activation = 'relu'))\n",
    "#Adding Dropout Layer\n",
    "model.add(Dropout(0.5))\n",
    "#Adding Dense Layer\n",
    "model.add(Dense(200, activation = 'relu'))\n",
    "#Adding Dropout Layer\n",
    "model.add(Dropout(0.5))\n",
    "#Adding Dense Layer\n",
    "model.add(Dense(100, activation = 'relu'))\n",
    "#Adding Dropout Layer\n",
    "model.add(Dropout(0.5))\n",
    "#Adding Dense Layer\n",
    "model.add(Dense(28, activation = 'softmax'))\n",
    "#Printing Model Summary\n",
    "model.summary()"
   ]
  },
  {
   "cell_type": "code",
   "execution_count": 25,
   "metadata": {
    "id": "Y9xqij6GjNIp"
   },
   "outputs": [],
   "source": [
    "#Compiling the Model\n",
    "model.compile(Adam(learning_rate = 0.001), loss = 'categorical_crossentropy', metrics = ['accuracy'])"
   ]
  },
  {
   "cell_type": "code",
   "execution_count": 26,
   "metadata": {
    "id": "5iB4Z_Nc9ad8"
   },
   "outputs": [],
   "source": [
    "#Here, we have 2 callbacks. ModelCheckpoint saves the model during training based on the lowest val_loss value\n",
    "my_check = ModelCheckpoint('SecondDesignBestModel.h5',\n",
    "                           monitor = \"val_loss\",\n",
    "                           mode = 'min',\n",
    "                           save_best_only = True,\n",
    "                           verbose = 1)"
   ]
  },
  {
   "cell_type": "code",
   "execution_count": 27,
   "metadata": {
    "colab": {
     "base_uri": "https://localhost:8080/"
    },
    "id": "TE7GkNoK-csO",
    "outputId": "d11b56f1-77f3-4b7c-9923-a9f18fc3f503"
   },
   "outputs": [
    {
     "name": "stdout",
     "output_type": "stream",
     "text": [
      "Epoch 1/30\n",
      "100/100 [==============================] - ETA: 0s - loss: 3.3337 - accuracy: 0.0445\n",
      "Epoch 1: val_loss improved from inf to 3.27931, saving model to SecondDesignBestModel.h5\n",
      "100/100 [==============================] - 13s 118ms/step - loss: 3.3337 - accuracy: 0.0445 - val_loss: 3.2793 - val_accuracy: 0.1151\n",
      "Epoch 2/30\n",
      "100/100 [==============================] - ETA: 0s - loss: 3.1338 - accuracy: 0.0946\n",
      "Epoch 2: val_loss improved from 3.27931 to 2.75413, saving model to SecondDesignBestModel.h5\n",
      "100/100 [==============================] - 12s 117ms/step - loss: 3.1338 - accuracy: 0.0946 - val_loss: 2.7541 - val_accuracy: 0.3194\n",
      "Epoch 3/30\n",
      "100/100 [==============================] - ETA: 0s - loss: 2.6874 - accuracy: 0.1858\n",
      "Epoch 3: val_loss improved from 2.75413 to 2.08103, saving model to SecondDesignBestModel.h5\n",
      "100/100 [==============================] - 12s 115ms/step - loss: 2.6874 - accuracy: 0.1858 - val_loss: 2.0810 - val_accuracy: 0.5060\n",
      "Epoch 4/30\n",
      "100/100 [==============================] - ETA: 0s - loss: 2.3239 - accuracy: 0.2873\n",
      "Epoch 4: val_loss improved from 2.08103 to 1.67183, saving model to SecondDesignBestModel.h5\n",
      "100/100 [==============================] - 11s 115ms/step - loss: 2.3239 - accuracy: 0.2873 - val_loss: 1.6718 - val_accuracy: 0.6825\n",
      "Epoch 5/30\n",
      "100/100 [==============================] - ETA: 0s - loss: 1.9907 - accuracy: 0.3703\n",
      "Epoch 5: val_loss improved from 1.67183 to 1.24355, saving model to SecondDesignBestModel.h5\n",
      "100/100 [==============================] - 12s 116ms/step - loss: 1.9907 - accuracy: 0.3703 - val_loss: 1.2435 - val_accuracy: 0.7679\n",
      "Epoch 6/30\n",
      "100/100 [==============================] - ETA: 0s - loss: 1.7940 - accuracy: 0.4214\n",
      "Epoch 6: val_loss improved from 1.24355 to 0.97778, saving model to SecondDesignBestModel.h5\n",
      "100/100 [==============================] - 11s 115ms/step - loss: 1.7940 - accuracy: 0.4214 - val_loss: 0.9778 - val_accuracy: 0.8204\n",
      "Epoch 7/30\n",
      "100/100 [==============================] - ETA: 0s - loss: 1.6307 - accuracy: 0.4821\n",
      "Epoch 7: val_loss improved from 0.97778 to 0.82574, saving model to SecondDesignBestModel.h5\n",
      "100/100 [==============================] - 11s 114ms/step - loss: 1.6307 - accuracy: 0.4821 - val_loss: 0.8257 - val_accuracy: 0.8760\n",
      "Epoch 8/30\n",
      "100/100 [==============================] - ETA: 0s - loss: 1.4660 - accuracy: 0.5169\n",
      "Epoch 8: val_loss improved from 0.82574 to 0.73122, saving model to SecondDesignBestModel.h5\n",
      "100/100 [==============================] - 11s 115ms/step - loss: 1.4660 - accuracy: 0.5169 - val_loss: 0.7312 - val_accuracy: 0.8710\n",
      "Epoch 9/30\n",
      "100/100 [==============================] - ETA: 0s - loss: 1.3609 - accuracy: 0.5448\n",
      "Epoch 9: val_loss improved from 0.73122 to 0.55088, saving model to SecondDesignBestModel.h5\n",
      "100/100 [==============================] - 11s 115ms/step - loss: 1.3609 - accuracy: 0.5448 - val_loss: 0.5509 - val_accuracy: 0.9167\n",
      "Epoch 10/30\n",
      "100/100 [==============================] - ETA: 0s - loss: 1.2536 - accuracy: 0.5930\n",
      "Epoch 10: val_loss improved from 0.55088 to 0.52589, saving model to SecondDesignBestModel.h5\n",
      "100/100 [==============================] - 12s 116ms/step - loss: 1.2536 - accuracy: 0.5930 - val_loss: 0.5259 - val_accuracy: 0.9137\n",
      "Epoch 11/30\n",
      "100/100 [==============================] - ETA: 0s - loss: 1.1568 - accuracy: 0.6175\n",
      "Epoch 11: val_loss improved from 0.52589 to 0.41313, saving model to SecondDesignBestModel.h5\n",
      "100/100 [==============================] - 12s 116ms/step - loss: 1.1568 - accuracy: 0.6175 - val_loss: 0.4131 - val_accuracy: 0.9335\n",
      "Epoch 12/30\n",
      "100/100 [==============================] - ETA: 0s - loss: 1.1252 - accuracy: 0.6378\n",
      "Epoch 12: val_loss improved from 0.41313 to 0.39279, saving model to SecondDesignBestModel.h5\n",
      "100/100 [==============================] - 12s 116ms/step - loss: 1.1252 - accuracy: 0.6378 - val_loss: 0.3928 - val_accuracy: 0.9157\n",
      "Epoch 13/30\n",
      "100/100 [==============================] - ETA: 0s - loss: 1.0503 - accuracy: 0.6535\n",
      "Epoch 13: val_loss improved from 0.39279 to 0.37353, saving model to SecondDesignBestModel.h5\n",
      "100/100 [==============================] - 12s 115ms/step - loss: 1.0503 - accuracy: 0.6535 - val_loss: 0.3735 - val_accuracy: 0.9266\n",
      "Epoch 14/30\n",
      "100/100 [==============================] - ETA: 0s - loss: 0.9788 - accuracy: 0.6836\n",
      "Epoch 14: val_loss improved from 0.37353 to 0.33367, saving model to SecondDesignBestModel.h5\n",
      "100/100 [==============================] - 11s 115ms/step - loss: 0.9788 - accuracy: 0.6836 - val_loss: 0.3337 - val_accuracy: 0.9435\n",
      "Epoch 15/30\n",
      "100/100 [==============================] - ETA: 0s - loss: 0.9187 - accuracy: 0.6914\n",
      "Epoch 15: val_loss improved from 0.33367 to 0.29435, saving model to SecondDesignBestModel.h5\n",
      "100/100 [==============================] - 12s 116ms/step - loss: 0.9187 - accuracy: 0.6914 - val_loss: 0.2944 - val_accuracy: 0.9385\n",
      "Epoch 16/30\n",
      "100/100 [==============================] - ETA: 0s - loss: 0.8915 - accuracy: 0.7093\n",
      "Epoch 16: val_loss improved from 0.29435 to 0.28838, saving model to SecondDesignBestModel.h5\n",
      "100/100 [==============================] - 12s 116ms/step - loss: 0.8915 - accuracy: 0.7093 - val_loss: 0.2884 - val_accuracy: 0.9335\n",
      "Epoch 17/30\n",
      "100/100 [==============================] - ETA: 0s - loss: 0.8810 - accuracy: 0.7180\n",
      "Epoch 17: val_loss improved from 0.28838 to 0.27043, saving model to SecondDesignBestModel.h5\n",
      "100/100 [==============================] - 12s 115ms/step - loss: 0.8810 - accuracy: 0.7180 - val_loss: 0.2704 - val_accuracy: 0.9415\n",
      "Epoch 18/30\n",
      "100/100 [==============================] - ETA: 0s - loss: 0.8011 - accuracy: 0.7350\n",
      "Epoch 18: val_loss improved from 0.27043 to 0.25429, saving model to SecondDesignBestModel.h5\n",
      "100/100 [==============================] - 12s 115ms/step - loss: 0.8011 - accuracy: 0.7350 - val_loss: 0.2543 - val_accuracy: 0.9474\n",
      "Epoch 19/30\n",
      "100/100 [==============================] - ETA: 0s - loss: 0.7813 - accuracy: 0.7459\n",
      "Epoch 19: val_loss improved from 0.25429 to 0.23679, saving model to SecondDesignBestModel.h5\n",
      "100/100 [==============================] - 11s 115ms/step - loss: 0.7813 - accuracy: 0.7459 - val_loss: 0.2368 - val_accuracy: 0.9454\n",
      "Epoch 20/30\n",
      "100/100 [==============================] - ETA: 0s - loss: 0.7632 - accuracy: 0.7538\n",
      "Epoch 20: val_loss did not improve from 0.23679\n",
      "100/100 [==============================] - 12s 115ms/step - loss: 0.7632 - accuracy: 0.7538 - val_loss: 0.2579 - val_accuracy: 0.9484\n",
      "Epoch 21/30\n",
      "100/100 [==============================] - ETA: 0s - loss: 0.7314 - accuracy: 0.7694\n",
      "Epoch 21: val_loss did not improve from 0.23679\n",
      "100/100 [==============================] - 12s 115ms/step - loss: 0.7314 - accuracy: 0.7694 - val_loss: 0.2506 - val_accuracy: 0.9504\n",
      "Epoch 22/30\n",
      "100/100 [==============================] - ETA: 0s - loss: 0.7127 - accuracy: 0.7747\n",
      "Epoch 22: val_loss did not improve from 0.23679\n",
      "100/100 [==============================] - 12s 116ms/step - loss: 0.7127 - accuracy: 0.7747 - val_loss: 0.2400 - val_accuracy: 0.9474\n",
      "Epoch 23/30\n",
      "100/100 [==============================] - ETA: 0s - loss: 0.6891 - accuracy: 0.7738\n",
      "Epoch 23: val_loss improved from 0.23679 to 0.21626, saving model to SecondDesignBestModel.h5\n",
      "100/100 [==============================] - 12s 116ms/step - loss: 0.6891 - accuracy: 0.7738 - val_loss: 0.2163 - val_accuracy: 0.9494\n",
      "Epoch 24/30\n",
      "100/100 [==============================] - ETA: 0s - loss: 0.6523 - accuracy: 0.7998\n",
      "Epoch 24: val_loss improved from 0.21626 to 0.19557, saving model to SecondDesignBestModel.h5\n",
      "100/100 [==============================] - 12s 116ms/step - loss: 0.6523 - accuracy: 0.7998 - val_loss: 0.1956 - val_accuracy: 0.9534\n",
      "Epoch 25/30\n",
      "100/100 [==============================] - ETA: 0s - loss: 0.6376 - accuracy: 0.7901\n",
      "Epoch 25: val_loss did not improve from 0.19557\n",
      "100/100 [==============================] - 11s 115ms/step - loss: 0.6376 - accuracy: 0.7901 - val_loss: 0.2141 - val_accuracy: 0.9454\n",
      "Epoch 26/30\n",
      "100/100 [==============================] - ETA: 0s - loss: 0.6512 - accuracy: 0.7982\n",
      "Epoch 26: val_loss did not improve from 0.19557\n",
      "100/100 [==============================] - 12s 116ms/step - loss: 0.6512 - accuracy: 0.7982 - val_loss: 0.2012 - val_accuracy: 0.9534\n",
      "Epoch 27/30\n",
      "100/100 [==============================] - ETA: 0s - loss: 0.5901 - accuracy: 0.8158\n",
      "Epoch 27: val_loss did not improve from 0.19557\n",
      "100/100 [==============================] - 11s 114ms/step - loss: 0.5901 - accuracy: 0.8158 - val_loss: 0.1998 - val_accuracy: 0.9494\n",
      "Epoch 28/30\n",
      "100/100 [==============================] - ETA: 0s - loss: 0.5948 - accuracy: 0.8167\n",
      "Epoch 28: val_loss improved from 0.19557 to 0.16744, saving model to SecondDesignBestModel.h5\n",
      "100/100 [==============================] - 12s 116ms/step - loss: 0.5948 - accuracy: 0.8167 - val_loss: 0.1674 - val_accuracy: 0.9563\n",
      "Epoch 29/30\n",
      "100/100 [==============================] - ETA: 0s - loss: 0.5508 - accuracy: 0.8246\n",
      "Epoch 29: val_loss did not improve from 0.16744\n",
      "100/100 [==============================] - 12s 116ms/step - loss: 0.5508 - accuracy: 0.8246 - val_loss: 0.1873 - val_accuracy: 0.9474\n",
      "Epoch 30/30\n",
      "100/100 [==============================] - ETA: 0s - loss: 0.5856 - accuracy: 0.8214\n",
      "Epoch 30: val_loss did not improve from 0.16744\n",
      "100/100 [==============================] - 11s 115ms/step - loss: 0.5856 - accuracy: 0.8214 - val_loss: 0.1816 - val_accuracy: 0.9484\n"
     ]
    }
   ],
   "source": [
    "#Training the Model and Appending All Parameters to history\n",
    "history = model.fit(X_train, y_train,\n",
    "                    epochs = 30,\n",
    "                    validation_data = (X_val, y_val),\n",
    "                    validation_steps = 10, \n",
    "                    callbacks = [my_check], \n",
    "                    verbose = 1)"
   ]
  },
  {
   "cell_type": "code",
   "execution_count": 28,
   "metadata": {
    "colab": {
     "base_uri": "https://localhost:8080/",
     "height": 300
    },
    "id": "eVs8fMJD-hKm",
    "outputId": "313488f7-c232-46d8-e362-a8a3a05ee007"
   },
   "outputs": [
    {
     "data": {
      "image/png": "[encoded data removed]",
      "text/plain": [
       "<Figure size 432x288 with 1 Axes>"
      ]
     },
     "metadata": {
      "needs_background": "light"
     },
     "output_type": "display_data"
    }
   ],
   "source": [
    "#Plotting Training and Validation Loss\n",
    "plt.plot(history.history['loss'])\n",
    "plt.plot(history.history['val_loss'])\n",
    "plt.legend(['Training', 'Validation'])\n",
    "plt.title('Training and Validation Loss', size = 15)\n",
    "plt.xlabel('Epoch', size = 12)\n",
    "plt.show()"
   ]
  },
  {
   "cell_type": "code",
   "execution_count": 29,
   "metadata": {
    "colab": {
     "base_uri": "https://localhost:8080/",
     "height": 300
    },
    "id": "vdMnMTNc_6Pj",
    "outputId": "c569ea84-19ad-477c-e758-568917565cac"
   },
   "outputs": [
    {
     "data": {
      "image/png": "[encoded data removed]",
      "text/plain": [
       "<Figure size 432x288 with 1 Axes>"
      ]
     },
     "metadata": {
      "needs_background": "light"
     },
     "output_type": "display_data"
    }
   ],
   "source": [
    "#Plotting Training and Validation Accuracies\n",
    "plt.plot(history.history['accuracy'])\n",
    "plt.plot(history.history['val_accuracy'])\n",
    "plt.legend(['Training', 'Validation'])\n",
    "plt.title('Training and Validation Accuracy', size = 15)\n",
    "plt.xlabel('Epoch', size = 12)\n",
    "plt.show()"
   ]
  },
  {
   "cell_type": "code",
   "execution_count": 30,
   "metadata": {
    "id": "uz-Gv155_6Lc"
   },
   "outputs": [],
   "source": [
    "#Loading the Best Model that is Saved during Training Process\n",
    "saved_model = load_model('SecondDesignBestModel.h5')"
   ]
  },
  {
   "cell_type": "code",
   "execution_count": 31,
   "metadata": {
    "colab": {
     "base_uri": "https://localhost:8080/"
    },
    "id": "0Skyvyai_6Jj",
    "outputId": "05a664cc-f6b7-4814-ce73-486ad6c86195"
   },
   "outputs": [
    {
     "name": "stdout",
     "output_type": "stream",
     "text": [
      "44/44 [==============================] - 1s 29ms/step - loss: 0.6303 - accuracy: 0.8471\n",
      "Test Accuracy :0.8471428751945496 Test Loss:0.6303238272666931\n"
     ]
    }
   ],
   "source": [
    "#Evaluating Test Data and Printing Test Accuracy and Loss\n",
    "test_loss, test_accuracy = saved_model.evaluate(X_test, y_test)\n",
    "print('Test Accuracy :{} Test Loss:{}'.format(test_accuracy, test_loss))"
   ]
  },
  {
   "cell_type": "markdown",
   "metadata": {
    "id": "4tEGvf-IFasI"
   },
   "source": [
    "# Extra"
   ]
  },
  {
   "cell_type": "markdown",
   "metadata": {
    "id": "hYOC0n_kSQOS"
   },
   "source": [
    "In the Train Dataset, All Pattern Types are 0. We can also observe it from below code written with groupby function of PanDas."
   ]
  },
  {
   "cell_type": "code",
   "execution_count": 32,
   "metadata": {
    "colab": {
     "base_uri": "https://localhost:8080/",
     "height": 112
    },
    "id": "y3imdyQYDgsB",
    "outputId": "97af78cb-59fd-4900-f77e-f122d380a4cf"
   },
   "outputs": [
    {
     "data": {
      "text/html": [
       "\n",
       "  <div id=\"df-edcf70e9-8bcc-4d62-b228-c207a9169410\">\n",
       "    <div class=\"colab-df-container\">\n",
       "      <div>\n",
       "<style scoped>\n",
       "    .dataframe tbody tr th:only-of-type {\n",
       "        vertical-align: middle;\n",
       "    }\n",
       "\n",
       "    .dataframe tbody tr th {\n",
       "        vertical-align: top;\n",
       "    }\n",
       "\n",
       "    .dataframe thead th {\n",
       "        text-align: right;\n",
       "    }\n",
       "</style>\n",
       "<table border=\"1\" class=\"dataframe\">\n",
       "  <thead>\n",
       "    <tr style=\"text-align: right;\">\n",
       "      <th></th>\n",
       "      <th>Data</th>\n",
       "    </tr>\n",
       "    <tr>\n",
       "      <th>PatType</th>\n",
       "      <th></th>\n",
       "    </tr>\n",
       "  </thead>\n",
       "  <tbody>\n",
       "    <tr>\n",
       "      <th>0</th>\n",
       "      <td>4200</td>\n",
       "    </tr>\n",
       "  </tbody>\n",
       "</table>\n",
       "</div>\n",
       "      <button class=\"colab-df-convert\" onclick=\"convertToInteractive('df-edcf70e9-8bcc-4d62-b228-c207a9169410')\"\n",
       "              title=\"Convert this dataframe to an interactive table.\"\n",
       "              style=\"display:none;\">\n",
       "        \n",
       "  <svg xmlns=\"http://www.w3.org/2000/svg\" height=\"24px\"viewBox=\"0 0 24 24\"\n",
       "       width=\"24px\">\n",
       "    <path d=\"M0 0h24v24H0V0z\" fill=\"none\"/>\n",
       "    <path d=\"M18.56 5.44l.94 2.06.94-2.06 2.06-.94-2.06-.94-.94-2.06-.94 2.06-2.06.94zm-11 1L8.5 8.5l.94-2.06 2.06-.94-2.06-.94L8.5 2.5l-.94 2.06-2.06.94zm10 10l.94 2.06.94-2.06 2.06-.94-2.06-.94-.94-2.06-.94 2.06-2.06.94z\"/><path d=\"M17.41 7.96l-1.37-1.37c-.4-.4-.92-.59-1.43-.59-.52 0-1.04.2-1.43.59L10.3 9.45l-7.72 7.72c-.78.78-.78 2.05 0 2.83L4 21.41c.39.39.9.59 1.41.59.51 0 1.02-.2 1.41-.59l7.78-7.78 2.81-2.81c.8-.78.8-2.07 0-2.86zM5.41 20L4 18.59l7.72-7.72 1.47 1.35L5.41 20z\"/>\n",
       "  </svg>\n",
       "      </button>\n",
       "      \n",
       "  <style>\n",
       "    .colab-df-container {\n",
       "      display:flex;\n",
       "      flex-wrap:wrap;\n",
       "      gap: 12px;\n",
       "    }\n",
       "\n",
       "    .colab-df-convert {\n",
       "      background-color: #E8F0FE;\n",
       "      border: none;\n",
       "      border-radius: 50%;\n",
       "      cursor: pointer;\n",
       "      display: none;\n",
       "      fill: #1967D2;\n",
       "      height: 32px;\n",
       "      padding: 0 0 0 0;\n",
       "      width: 32px;\n",
       "    }\n",
       "\n",
       "    .colab-df-convert:hover {\n",
       "      background-color: #E2EBFA;\n",
       "      box-shadow: 0px 1px 2px rgba(60, 64, 67, 0.3), 0px 1px 3px 1px rgba(60, 64, 67, 0.15);\n",
       "      fill: #174EA6;\n",
       "    }\n",
       "\n",
       "    [theme=dark] .colab-df-convert {\n",
       "      background-color: #3B4455;\n",
       "      fill: #D2E3FC;\n",
       "    }\n",
       "\n",
       "    [theme=dark] .colab-df-convert:hover {\n",
       "      background-color: #434B5C;\n",
       "      box-shadow: 0px 1px 3px 1px rgba(0, 0, 0, 0.15);\n",
       "      filter: drop-shadow(0px 1px 2px rgba(0, 0, 0, 0.3));\n",
       "      fill: #FFFFFF;\n",
       "    }\n",
       "  </style>\n",
       "\n",
       "      <script>\n",
       "        const buttonEl =\n",
       "          document.querySelector('#df-edcf70e9-8bcc-4d62-b228-c207a9169410 button.colab-df-convert');\n",
       "        buttonEl.style.display =\n",
       "          google.colab.kernel.accessAllowed ? 'block' : 'none';\n",
       "\n",
       "        async function convertToInteractive(key) {\n",
       "          const element = document.querySelector('#df-edcf70e9-8bcc-4d62-b228-c207a9169410');\n",
       "          const dataTable =\n",
       "            await google.colab.kernel.invokeFunction('convertToInteractive',\n",
       "                                                     [key], {});\n",
       "          if (!dataTable) return;\n",
       "\n",
       "          const docLinkHtml = 'Like what you see? Visit the ' +\n",
       "            '<a target=\"_blank\" href=https://colab.research.google.com/notebooks/data_table.ipynb>data table notebook</a>'\n",
       "            + ' to learn more about interactive tables.';\n",
       "          element.innerHTML = '';\n",
       "          dataTable['output_type'] = 'display_data';\n",
       "          await google.colab.output.renderOutput(dataTable, element);\n",
       "          const docLink = document.createElement('div');\n",
       "          docLink.innerHTML = docLinkHtml;\n",
       "          element.appendChild(docLink);\n",
       "        }\n",
       "      </script>\n",
       "    </div>\n",
       "  </div>\n",
       "  "
      ],
      "text/plain": [
       "         Data\n",
       "PatType      \n",
       "0        4200"
      ]
     },
     "execution_count": 32,
     "metadata": {},
     "output_type": "execute_result"
    }
   ],
   "source": [
    "train.groupby(\"PatType\").count()[[\"Data\"]]"
   ]
  },
  {
   "cell_type": "markdown",
   "metadata": {
    "id": "698sK-WnSzcy"
   },
   "source": [
    "However, in Test Data, we have several Pattern Types which are not trained in the model."
   ]
  },
  {
   "cell_type": "code",
   "execution_count": 33,
   "metadata": {
    "colab": {
     "base_uri": "https://localhost:8080/",
     "height": 206
    },
    "id": "Njs4maHeS8Qo",
    "outputId": "96b374e0-0fea-44f5-beed-fab8259915f3"
   },
   "outputs": [
    {
     "data": {
      "text/html": [
       "\n",
       "  <div id=\"df-dace48cd-e208-4230-9b0c-f87b8de0c073\">\n",
       "    <div class=\"colab-df-container\">\n",
       "      <div>\n",
       "<style scoped>\n",
       "    .dataframe tbody tr th:only-of-type {\n",
       "        vertical-align: middle;\n",
       "    }\n",
       "\n",
       "    .dataframe tbody tr th {\n",
       "        vertical-align: top;\n",
       "    }\n",
       "\n",
       "    .dataframe thead th {\n",
       "        text-align: right;\n",
       "    }\n",
       "</style>\n",
       "<table border=\"1\" class=\"dataframe\">\n",
       "  <thead>\n",
       "    <tr style=\"text-align: right;\">\n",
       "      <th></th>\n",
       "      <th>Data</th>\n",
       "    </tr>\n",
       "    <tr>\n",
       "      <th>PatType</th>\n",
       "      <th></th>\n",
       "    </tr>\n",
       "  </thead>\n",
       "  <tbody>\n",
       "    <tr>\n",
       "      <th>0</th>\n",
       "      <td>1207</td>\n",
       "    </tr>\n",
       "    <tr>\n",
       "      <th>1</th>\n",
       "      <td>182</td>\n",
       "    </tr>\n",
       "    <tr>\n",
       "      <th>2</th>\n",
       "      <td>9</td>\n",
       "    </tr>\n",
       "    <tr>\n",
       "      <th>3</th>\n",
       "      <td>2</td>\n",
       "    </tr>\n",
       "  </tbody>\n",
       "</table>\n",
       "</div>\n",
       "      <button class=\"colab-df-convert\" onclick=\"convertToInteractive('df-dace48cd-e208-4230-9b0c-f87b8de0c073')\"\n",
       "              title=\"Convert this dataframe to an interactive table.\"\n",
       "              style=\"display:none;\">\n",
       "        \n",
       "  <svg xmlns=\"http://www.w3.org/2000/svg\" height=\"24px\"viewBox=\"0 0 24 24\"\n",
       "       width=\"24px\">\n",
       "    <path d=\"M0 0h24v24H0V0z\" fill=\"none\"/>\n",
       "    <path d=\"M18.56 5.44l.94 2.06.94-2.06 2.06-.94-2.06-.94-.94-2.06-.94 2.06-2.06.94zm-11 1L8.5 8.5l.94-2.06 2.06-.94-2.06-.94L8.5 2.5l-.94 2.06-2.06.94zm10 10l.94 2.06.94-2.06 2.06-.94-2.06-.94-.94-2.06-.94 2.06-2.06.94z\"/><path d=\"M17.41 7.96l-1.37-1.37c-.4-.4-.92-.59-1.43-.59-.52 0-1.04.2-1.43.59L10.3 9.45l-7.72 7.72c-.78.78-.78 2.05 0 2.83L4 21.41c.39.39.9.59 1.41.59.51 0 1.02-.2 1.41-.59l7.78-7.78 2.81-2.81c.8-.78.8-2.07 0-2.86zM5.41 20L4 18.59l7.72-7.72 1.47 1.35L5.41 20z\"/>\n",
       "  </svg>\n",
       "      </button>\n",
       "      \n",
       "  <style>\n",
       "    .colab-df-container {\n",
       "      display:flex;\n",
       "      flex-wrap:wrap;\n",
       "      gap: 12px;\n",
       "    }\n",
       "\n",
       "    .colab-df-convert {\n",
       "      background-color: #E8F0FE;\n",
       "      border: none;\n",
       "      border-radius: 50%;\n",
       "      cursor: pointer;\n",
       "      display: none;\n",
       "      fill: #1967D2;\n",
       "      height: 32px;\n",
       "      padding: 0 0 0 0;\n",
       "      width: 32px;\n",
       "    }\n",
       "\n",
       "    .colab-df-convert:hover {\n",
       "      background-color: #E2EBFA;\n",
       "      box-shadow: 0px 1px 2px rgba(60, 64, 67, 0.3), 0px 1px 3px 1px rgba(60, 64, 67, 0.15);\n",
       "      fill: #174EA6;\n",
       "    }\n",
       "\n",
       "    [theme=dark] .colab-df-convert {\n",
       "      background-color: #3B4455;\n",
       "      fill: #D2E3FC;\n",
       "    }\n",
       "\n",
       "    [theme=dark] .colab-df-convert:hover {\n",
       "      background-color: #434B5C;\n",
       "      box-shadow: 0px 1px 3px 1px rgba(0, 0, 0, 0.15);\n",
       "      filter: drop-shadow(0px 1px 2px rgba(0, 0, 0, 0.3));\n",
       "      fill: #FFFFFF;\n",
       "    }\n",
       "  </style>\n",
       "\n",
       "      <script>\n",
       "        const buttonEl =\n",
       "          document.querySelector('#df-dace48cd-e208-4230-9b0c-f87b8de0c073 button.colab-df-convert');\n",
       "        buttonEl.style.display =\n",
       "          google.colab.kernel.accessAllowed ? 'block' : 'none';\n",
       "\n",
       "        async function convertToInteractive(key) {\n",
       "          const element = document.querySelector('#df-dace48cd-e208-4230-9b0c-f87b8de0c073');\n",
       "          const dataTable =\n",
       "            await google.colab.kernel.invokeFunction('convertToInteractive',\n",
       "                                                     [key], {});\n",
       "          if (!dataTable) return;\n",
       "\n",
       "          const docLinkHtml = 'Like what you see? Visit the ' +\n",
       "            '<a target=\"_blank\" href=https://colab.research.google.com/notebooks/data_table.ipynb>data table notebook</a>'\n",
       "            + ' to learn more about interactive tables.';\n",
       "          element.innerHTML = '';\n",
       "          dataTable['output_type'] = 'display_data';\n",
       "          await google.colab.output.renderOutput(dataTable, element);\n",
       "          const docLink = document.createElement('div');\n",
       "          docLink.innerHTML = docLinkHtml;\n",
       "          element.appendChild(docLink);\n",
       "        }\n",
       "      </script>\n",
       "    </div>\n",
       "  </div>\n",
       "  "
      ],
      "text/plain": [
       "         Data\n",
       "PatType      \n",
       "0        1207\n",
       "1         182\n",
       "2           9\n",
       "3           2"
      ]
     },
     "execution_count": 33,
     "metadata": {},
     "output_type": "execute_result"
    }
   ],
   "source": [
    "test.groupby(\"PatType\").count()[[\"Data\"]]"
   ]
  },
  {
   "cell_type": "markdown",
   "metadata": {
    "id": "FMpxGAJeS_PN"
   },
   "source": [
    "So, we need to take Data having only 0 Pattern Types from Test Data and Evaluate model using those images."
   ]
  },
  {
   "cell_type": "code",
   "execution_count": 34,
   "metadata": {
    "id": "n74PQ_QTDgqT"
   },
   "outputs": [],
   "source": [
    "#Taking Portion of Test Data having Pattern Type 0\n",
    "test_PT0 = test[test[\"PatType\"] == 0]"
   ]
  },
  {
   "cell_type": "code",
   "execution_count": 35,
   "metadata": {
    "colab": {
     "base_uri": "https://localhost:8080/",
     "height": 112
    },
    "id": "SJyWyA2TQZRl",
    "outputId": "8b43fe8a-d2d3-4663-99df-057be481aeab"
   },
   "outputs": [
    {
     "data": {
      "text/html": [
       "\n",
       "  <div id=\"df-40348072-e8ee-4bcf-a45f-2958c9c1a546\">\n",
       "    <div class=\"colab-df-container\">\n",
       "      <div>\n",
       "<style scoped>\n",
       "    .dataframe tbody tr th:only-of-type {\n",
       "        vertical-align: middle;\n",
       "    }\n",
       "\n",
       "    .dataframe tbody tr th {\n",
       "        vertical-align: top;\n",
       "    }\n",
       "\n",
       "    .dataframe thead th {\n",
       "        text-align: right;\n",
       "    }\n",
       "</style>\n",
       "<table border=\"1\" class=\"dataframe\">\n",
       "  <thead>\n",
       "    <tr style=\"text-align: right;\">\n",
       "      <th></th>\n",
       "      <th>Data</th>\n",
       "    </tr>\n",
       "    <tr>\n",
       "      <th>PatType</th>\n",
       "      <th></th>\n",
       "    </tr>\n",
       "  </thead>\n",
       "  <tbody>\n",
       "    <tr>\n",
       "      <th>0</th>\n",
       "      <td>1207</td>\n",
       "    </tr>\n",
       "  </tbody>\n",
       "</table>\n",
       "</div>\n",
       "      <button class=\"colab-df-convert\" onclick=\"convertToInteractive('df-40348072-e8ee-4bcf-a45f-2958c9c1a546')\"\n",
       "              title=\"Convert this dataframe to an interactive table.\"\n",
       "              style=\"display:none;\">\n",
       "        \n",
       "  <svg xmlns=\"http://www.w3.org/2000/svg\" height=\"24px\"viewBox=\"0 0 24 24\"\n",
       "       width=\"24px\">\n",
       "    <path d=\"M0 0h24v24H0V0z\" fill=\"none\"/>\n",
       "    <path d=\"M18.56 5.44l.94 2.06.94-2.06 2.06-.94-2.06-.94-.94-2.06-.94 2.06-2.06.94zm-11 1L8.5 8.5l.94-2.06 2.06-.94-2.06-.94L8.5 2.5l-.94 2.06-2.06.94zm10 10l.94 2.06.94-2.06 2.06-.94-2.06-.94-.94-2.06-.94 2.06-2.06.94z\"/><path d=\"M17.41 7.96l-1.37-1.37c-.4-.4-.92-.59-1.43-.59-.52 0-1.04.2-1.43.59L10.3 9.45l-7.72 7.72c-.78.78-.78 2.05 0 2.83L4 21.41c.39.39.9.59 1.41.59.51 0 1.02-.2 1.41-.59l7.78-7.78 2.81-2.81c.8-.78.8-2.07 0-2.86zM5.41 20L4 18.59l7.72-7.72 1.47 1.35L5.41 20z\"/>\n",
       "  </svg>\n",
       "      </button>\n",
       "      \n",
       "  <style>\n",
       "    .colab-df-container {\n",
       "      display:flex;\n",
       "      flex-wrap:wrap;\n",
       "      gap: 12px;\n",
       "    }\n",
       "\n",
       "    .colab-df-convert {\n",
       "      background-color: #E8F0FE;\n",
       "      border: none;\n",
       "      border-radius: 50%;\n",
       "      cursor: pointer;\n",
       "      display: none;\n",
       "      fill: #1967D2;\n",
       "      height: 32px;\n",
       "      padding: 0 0 0 0;\n",
       "      width: 32px;\n",
       "    }\n",
       "\n",
       "    .colab-df-convert:hover {\n",
       "      background-color: #E2EBFA;\n",
       "      box-shadow: 0px 1px 2px rgba(60, 64, 67, 0.3), 0px 1px 3px 1px rgba(60, 64, 67, 0.15);\n",
       "      fill: #174EA6;\n",
       "    }\n",
       "\n",
       "    [theme=dark] .colab-df-convert {\n",
       "      background-color: #3B4455;\n",
       "      fill: #D2E3FC;\n",
       "    }\n",
       "\n",
       "    [theme=dark] .colab-df-convert:hover {\n",
       "      background-color: #434B5C;\n",
       "      box-shadow: 0px 1px 3px 1px rgba(0, 0, 0, 0.15);\n",
       "      filter: drop-shadow(0px 1px 2px rgba(0, 0, 0, 0.3));\n",
       "      fill: #FFFFFF;\n",
       "    }\n",
       "  </style>\n",
       "\n",
       "      <script>\n",
       "        const buttonEl =\n",
       "          document.querySelector('#df-40348072-e8ee-4bcf-a45f-2958c9c1a546 button.colab-df-convert');\n",
       "        buttonEl.style.display =\n",
       "          google.colab.kernel.accessAllowed ? 'block' : 'none';\n",
       "\n",
       "        async function convertToInteractive(key) {\n",
       "          const element = document.querySelector('#df-40348072-e8ee-4bcf-a45f-2958c9c1a546');\n",
       "          const dataTable =\n",
       "            await google.colab.kernel.invokeFunction('convertToInteractive',\n",
       "                                                     [key], {});\n",
       "          if (!dataTable) return;\n",
       "\n",
       "          const docLinkHtml = 'Like what you see? Visit the ' +\n",
       "            '<a target=\"_blank\" href=https://colab.research.google.com/notebooks/data_table.ipynb>data table notebook</a>'\n",
       "            + ' to learn more about interactive tables.';\n",
       "          element.innerHTML = '';\n",
       "          dataTable['output_type'] = 'display_data';\n",
       "          await google.colab.output.renderOutput(dataTable, element);\n",
       "          const docLink = document.createElement('div');\n",
       "          docLink.innerHTML = docLinkHtml;\n",
       "          element.appendChild(docLink);\n",
       "        }\n",
       "      </script>\n",
       "    </div>\n",
       "  </div>\n",
       "  "
      ],
      "text/plain": [
       "         Data\n",
       "PatType      \n",
       "0        1207"
      ]
     },
     "execution_count": 35,
     "metadata": {},
     "output_type": "execute_result"
    }
   ],
   "source": [
    "#Checking Number of Pattern Types in Test Data again\n",
    "test_PT0.groupby(\"PatType\").count()[[\"Data\"]]"
   ]
  },
  {
   "cell_type": "code",
   "execution_count": 36,
   "metadata": {
    "id": "BPyl-5aXQbv-"
   },
   "outputs": [],
   "source": [
    "#Extracting Images and Labels from Data\n",
    "test_X, test_y = extract(test_PT0)\n",
    "#Reshaping Data for Evaluation\n",
    "test_X = reshape(test_X)\n",
    "#Binarizing Labels\n",
    "test_y = label_binarizer.fit_transform(test_y)"
   ]
  },
  {
   "cell_type": "code",
   "execution_count": 37,
   "metadata": {
    "id": "cGQy0VCTRZAT"
   },
   "outputs": [],
   "source": [
    "#Loading the Best Model that is Saved during First Desing Training Process\n",
    "saved_model = load_model('FirstDesignBestModel.h5')"
   ]
  },
  {
   "cell_type": "code",
   "execution_count": 38,
   "metadata": {
    "colab": {
     "base_uri": "https://localhost:8080/"
    },
    "id": "pwZRKMnfRemv",
    "outputId": "b1449284-3b8c-4bac-cda2-f8db12872ac7"
   },
   "outputs": [
    {
     "name": "stdout",
     "output_type": "stream",
     "text": [
      "38/38 [==============================] - 1s 29ms/step - loss: 0.4006 - accuracy: 0.9064\n",
      "Test Accuracy :0.9063794612884521 Test Loss:0.4006054997444153\n"
     ]
    }
   ],
   "source": [
    "#Evaluating Test Data and Printing Test Accuracy and Loss\n",
    "test_loss, test_accuracy = saved_model.evaluate(test_X, test_y)\n",
    "print('Test Accuracy :{} Test Loss:{}'.format(test_accuracy, test_loss))"
   ]
  },
  {
   "cell_type": "code",
   "execution_count": 39,
   "metadata": {
    "id": "gREkQ0h3ToJI"
   },
   "outputs": [],
   "source": [
    "#Loading the Best Model that is Saved during First Desing Training Process\n",
    "saved_model = load_model('SecondDesignBestModel.h5')"
   ]
  },
  {
   "cell_type": "code",
   "execution_count": 40,
   "metadata": {
    "colab": {
     "base_uri": "https://localhost:8080/"
    },
    "id": "XOOi_oPPRkZ0",
    "outputId": "e45264ba-fc1e-4fc1-f7f2-919677bd9a04"
   },
   "outputs": [
    {
     "name": "stdout",
     "output_type": "stream",
     "text": [
      "38/38 [==============================] - 1s 29ms/step - loss: 0.3604 - accuracy: 0.9105\n",
      "Test Accuracy :0.9105219841003418 Test Loss:0.3603803217411041\n"
     ]
    }
   ],
   "source": [
    "#Evaluating Test Data and Printing Test Accuracy and Loss\n",
    "test_loss, test_accuracy = saved_model.evaluate(test_X, test_y)\n",
    "print('Test Accuracy :{} Test Loss:{}'.format(test_accuracy, test_loss))"
   ]
  },
  {
   "cell_type": "code",
   "execution_count": 40,
   "metadata": {
    "id": "OWMj3TEBTrTS"
   },
   "outputs": [],
   "source": []
  }
 ],
 "metadata": {
  "colab": {
   "collapsed_sections": [],
   "name": "Solution.ipynb",
   "provenance": []
  },
  "kernelspec": {
   "display_name": "Python 3",
   "language": "python",
   "name": "python3"
  },
  "language_info": {
   "codemirror_mode": {
    "name": "ipython",
    "version": 3
   },
   "file_extension": ".py",
   "mimetype": "text/x-python",
   "name": "python",
   "nbconvert_exporter": "python",
   "pygments_lexer": "ipython3",
   "version": "3.8.3"
  }
 },
 "nbformat": 4,
 "nbformat_minor": 1
}
